{
  "nbformat": 4,
  "nbformat_minor": 0,
  "metadata": {
    "colab": {
      "provenance": [],
      "authorship_tag": "ABX9TyMXhzNYI+eXe7J36Caxei1K",
      "include_colab_link": true
    },
    "kernelspec": {
      "name": "python3",
      "display_name": "Python 3"
    },
    "language_info": {
      "name": "python"
    }
  },
  "cells": [
    {
      "cell_type": "markdown",
      "metadata": {
        "id": "view-in-github",
        "colab_type": "text"
      },
      "source": [
        "<a href=\"https://colab.research.google.com/github/Nevary-Codes/Groq-Assignment/blob/main/Aryan_Manchanda_Assignment.ipynb\" target=\"_parent\"><img src=\"https://colab.research.google.com/assets/colab-badge.svg\" alt=\"Open In Colab\"/></a>"
      ]
    },
    {
      "cell_type": "code",
      "execution_count": null,
      "metadata": {
        "id": "rs-hxw1Yop0w"
      },
      "outputs": [],
      "source": [
        "import os\n",
        "import re\n",
        "import json\n",
        "import requests\n",
        "from datetime import datetime\n",
        "from textwrap import shorten"
      ]
    },
    {
      "cell_type": "code",
      "source": [
        "class ConversationManager:\n",
        "    def __init__(self, periodic_k=3):\n",
        "        self.history = []\n",
        "        self.periodic_k = periodic_k\n",
        "        self.run_count = 0\n",
        "        self.summaries = []\n",
        "\n",
        "    def add_message(self, role, text):\n",
        "        self.run_count += 1\n",
        "        self.history.append({\n",
        "            \"role\": role,\n",
        "            \"text\": text,\n",
        "            \"ts\": datetime.utcnow().isoformat()+\"Z\"\n",
        "        })\n",
        "\n",
        "        # Periodic summarization\n",
        "        if self.periodic_k > 0 and (self.run_count % self.periodic_k) == 0:\n",
        "            summary = self.summarize_history()\n",
        "            self.summaries.append({\"ts\": datetime.utcnow().isoformat()+\"Z\", \"summary\": summary})\n",
        "            self.history = [{\"role\": \"system\", \"text\": f\"SUMMARY: {summary}\", \"ts\": datetime.utcnow().isoformat()+\"Z\"}]\n",
        "        return True\n",
        "\n",
        "    def get_history(self):\n",
        "        return self.history\n",
        "\n",
        "    def truncate_by_turns(self, n_turns):\n",
        "        return self.history[-n_turns:] if n_turns > 0 else []\n",
        "\n",
        "    def truncate_by_chars(self, max_chars):\n",
        "        if max_chars <= 0:\n",
        "            return []\n",
        "        out = []\n",
        "        total = 0\n",
        "        for item in reversed(self.history):\n",
        "            txt = item[\"text\"]\n",
        "            if total + len(txt) <= max_chars:\n",
        "                out.append(item)\n",
        "                total += len(txt)\n",
        "            else:\n",
        "                remaining = max_chars - total\n",
        "                if remaining > 0:\n",
        "                    out.append({**item, \"text\": txt[-remaining:]})\n",
        "                break\n",
        "        return list(reversed(out))\n",
        "\n",
        "    def summarize_history(self, num_sentences=3):\n",
        "        all_text = \" \".join([m[\"text\"] for m in self.history])\n",
        "        sentences = re.split(r'(?<=[.!?])\\s+', all_text.strip())\n",
        "        if not sentences:\n",
        "            return \"(no content)\"\n",
        "        words = re.findall(r'\\w+', all_text.lower())\n",
        "        freq = {}\n",
        "        for w in words:\n",
        "            if len(w) > 2:\n",
        "                freq[w] = freq.get(w, 0) + 1\n",
        "        scored = []\n",
        "        for s in sentences:\n",
        "            s_words = re.findall(r'\\w+', s.lower())\n",
        "            if not s_words:\n",
        "                continue\n",
        "            score = sum(freq.get(w, 0) for w in s_words) / len(s_words)\n",
        "            scored.append((score, s))\n",
        "        scored.sort(reverse=True, key=lambda x: x[0])\n",
        "        top_sentences = [s for _, s in scored[:num_sentences]]\n",
        "        summary = \" \".join([s for s in sentences if s in top_sentences])\n",
        "        return summary or sentences[0]"
      ],
      "metadata": {
        "id": "WXkfxaWao8Kk"
      },
      "execution_count": null,
      "outputs": []
    },
    {
      "cell_type": "code",
      "source": [
        "from google.colab import userdata\n",
        "API_KEY = userdata.get('GROQ_API_KEY')\n",
        "API_URL = \"https://api.groq.com/openai/v1/chat/completions\"  # OpenAI-compatible endpoint\n",
        "\n",
        "FUNCTIONS = [\n",
        "    {\n",
        "        \"name\": \"extract_user_info\",\n",
        "        \"description\": \"Extracts structured user information from chat text.\",\n",
        "        \"parameters\": {\n",
        "            \"type\": \"object\",\n",
        "            \"properties\": {\n",
        "                \"name\": {\"type\": \"string\"},\n",
        "                \"email\": {\"type\": \"string\"},\n",
        "                \"phone\": {\"type\": \"string\"},\n",
        "                \"location\": {\"type\": \"string\"},\n",
        "                \"age\": {\"type\": \"integer\"}\n",
        "            },\n",
        "            \"required\": []\n",
        "        }\n",
        "    }\n",
        "]\n",
        "\n",
        "def extract_with_groq(chat_text):\n",
        "    if API_KEY is None:\n",
        "        pass\n",
        "    payload = {\n",
        "        \"model\": \"llama-3.1-8b-instant\",\n",
        "        \"messages\": [{\"role\": \"user\", \"content\": chat_text}],\n",
        "        \"functions\": FUNCTIONS,\n",
        "        \"function_call\": {\"name\": \"extract_user_info\"}\n",
        "    }\n",
        "    headers = {\"Authorization\": f\"Bearer {API_KEY}\", \"Content-Type\": \"application/json\"}\n",
        "    resp = requests.post(API_URL, headers=headers, json=payload)\n",
        "    if resp.status_code == 200:\n",
        "        result = resp.json()\n",
        "        try:\n",
        "            func_args = result['choices'][0]['message']['function_call']['arguments']\n",
        "            return json.loads(func_args)\n",
        "        except Exception as e:\n",
        "            print(\"Error parsing function_call output:\", e)\n",
        "            return {}\n",
        "    else:\n",
        "        print(\"Request failed:\", resp.status_code, resp.text)\n",
        "        return {}\n"
      ],
      "metadata": {
        "id": "6bCcnSFWo86L"
      },
      "execution_count": null,
      "outputs": []
    },
    {
      "cell_type": "code",
      "source": [
        "mgr = ConversationManager(periodic_k=3)\n",
        "\n",
        "# Example user messages\n",
        "user_messages = [\n",
        "    \"Hi, I'm Arjun. My email is arjun.k@example.com and I'm 21 years old.\",\n",
        "    \"I live in Chennai and my phone is +91 98765 43210.\",\n",
        "    \"Hello, my name is Priya. My email is priya.dev@mail.co and I am 25.\"\n",
        "]\n",
        "\n",
        "print(\"=== Conversation + Extraction Demo ===\")\n",
        "for msg in user_messages:\n",
        "    # Add user message\n",
        "    mgr.add_message(\"user\", msg)\n",
        "\n",
        "    # Extract structured info from message\n",
        "    data = extract_with_groq(msg)\n",
        "    # errors = validate_extracted(data)\n",
        "\n",
        "    # Add assistant confirmation message\n",
        "    mgr.add_message(\"assistant\", f\"Data extracted: {data}\")\n",
        "\n",
        "    print(\"\\nUser message:\", msg)\n",
        "    print(\"Extracted:\", data)\n",
        "    # print(\"Validation:\", \"OK\" if not errors else errors)\n",
        "    print(\"Current conversation history length:\", len(mgr.get_history()))\n",
        "    print(\"Last message in history:\", mgr.get_history()[-1][\"text\"])"
      ],
      "metadata": {
        "colab": {
          "base_uri": "https://localhost:8080/"
        },
        "id": "3cb0zqikpDXT",
        "outputId": "b1482dc1-6f60-424a-b0a5-7ab1bb7c0831"
      },
      "execution_count": null,
      "outputs": [
        {
          "output_type": "stream",
          "name": "stdout",
          "text": [
            "=== Conversation + Extraction Demo ===\n"
          ]
        },
        {
          "output_type": "stream",
          "name": "stderr",
          "text": [
            "/tmp/ipython-input-525729238.py:13: DeprecationWarning: datetime.datetime.utcnow() is deprecated and scheduled for removal in a future version. Use timezone-aware objects to represent datetimes in UTC: datetime.datetime.now(datetime.UTC).\n",
            "  \"ts\": datetime.utcnow().isoformat()+\"Z\"\n"
          ]
        },
        {
          "output_type": "stream",
          "name": "stdout",
          "text": [
            "\n",
            "User message: Hi, I'm Arjun. My email is arjun.k@example.com and I'm 21 years old.\n",
            "Extracted: {'age': 21, 'email': 'arjun.k@example.com', 'location': '', 'name': 'Arjun', 'phone': ''}\n",
            "Current conversation history length: 2\n",
            "Last message in history: Data extracted: {'age': 21, 'email': 'arjun.k@example.com', 'location': '', 'name': 'Arjun', 'phone': ''}\n"
          ]
        },
        {
          "output_type": "stream",
          "name": "stderr",
          "text": [
            "/tmp/ipython-input-525729238.py:19: DeprecationWarning: datetime.datetime.utcnow() is deprecated and scheduled for removal in a future version. Use timezone-aware objects to represent datetimes in UTC: datetime.datetime.now(datetime.UTC).\n",
            "  self.summaries.append({\"ts\": datetime.utcnow().isoformat()+\"Z\", \"summary\": summary})\n",
            "/tmp/ipython-input-525729238.py:20: DeprecationWarning: datetime.datetime.utcnow() is deprecated and scheduled for removal in a future version. Use timezone-aware objects to represent datetimes in UTC: datetime.datetime.now(datetime.UTC).\n",
            "  self.history = [{\"role\": \"system\", \"text\": f\"SUMMARY: {summary}\", \"ts\": datetime.utcnow().isoformat()+\"Z\"}]\n"
          ]
        },
        {
          "output_type": "stream",
          "name": "stdout",
          "text": [
            "Request failed: 400 {\"error\":{\"message\":\"tool call validation failed: parameters for tool extract_user_info did not match schema: errors: [`/age`: expected integer, but got null]\",\"type\":\"invalid_request_error\",\"code\":\"tool_use_failed\",\"failed_generation\":\"\\u003cfunction=extract_user_info\\u003e {\\\"name\\\": \\\"\\\", \\\"phone\\\": \\\"+91 98765 43210\\\", \\\"age\\\": null, \\\"email\\\": \\\"\\\", \\\"location\\\": \\\"Chennai\\\", \\\"name\\\": \\\"\\\"}\\u003c/function\\u003e\"}}\n",
            "\n",
            "\n",
            "User message: I live in Chennai and my phone is +91 98765 43210.\n",
            "Extracted: {}\n",
            "Current conversation history length: 2\n",
            "Last message in history: Data extracted: {}\n",
            "\n",
            "User message: Hello, my name is Priya. My email is priya.dev@mail.co and I am 25.\n",
            "Extracted: {'age': 25, 'email': 'priya.dev@mail.co', 'location': '', 'name': 'Priya', 'phone': ''}\n",
            "Current conversation history length: 1\n",
            "Last message in history: SUMMARY: Data extracted: {'age': 21, 'email': 'arjun.k@example.com', 'location': '', 'name': 'Arjun', 'phone': ''} I live in Chennai and my phone is +91 98765 43210. Data extracted: {} Hello, my name is Priya. Data extracted: {'age': 25, 'email': 'priya.dev@mail.co', 'location': '', 'name': 'Priya', 'phone': ''}\n"
          ]
        }
      ]
    },
    {
      "cell_type": "code",
      "source": [],
      "metadata": {
        "id": "8Q9j9wv9pWCn"
      },
      "execution_count": null,
      "outputs": []
    }
  ]
}